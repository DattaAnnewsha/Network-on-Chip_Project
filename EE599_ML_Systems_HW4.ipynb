{
  "cells": [
    {
      "cell_type": "markdown",
      "metadata": {
        "id": "view-in-github",
        "colab_type": "text"
      },
      "source": [
        "<a href=\"https://colab.research.google.com/github/DattaAnnewsha/Network-on-Chip_Project/blob/main/EE599_ML_Systems_HW4.ipynb\" target=\"_parent\"><img src=\"https://colab.research.google.com/assets/colab-badge.svg\" alt=\"Open In Colab\"/></a>"
      ]
    },
    {
      "cell_type": "markdown",
      "metadata": {
        "id": "nc3kdYUUlfGP"
      },
      "source": [
        "# HW4 EE599 Systems for Machine Learning, Fall 2023\n",
        "University of Southern California\n",
        "\n",
        "Instructors: Arash Saifhashemi, Murali Annavaram\n",
        "\n",
        "## Prerequisites:\n",
        "\n",
        "* Set the runtime type to GPU. (Runtime -> Change Runtime Type)"
      ]
    },
    {
      "cell_type": "markdown",
      "metadata": {
        "id": "zTvIwDlYvBzC"
      },
      "source": [
        "# Initial Setup\n",
        "\n",
        "This section imports all required packages from PyTorch.\n",
        "\n"
      ]
    },
    {
      "cell_type": "code",
      "execution_count": 1,
      "metadata": {
        "id": "hbiiMcdNJI--",
        "vscode": {
          "languageId": "python"
        }
      },
      "outputs": [],
      "source": [
        "#%matplotlib inline\n",
        "import scipy.ndimage as ndi\n",
        "import numpy as np\n",
        "np.set_printoptions(suppress=True)\n",
        "import matplotlib.pyplot as plt\n",
        "import matplotlib.cm as cm\n",
        "grays=plt.get_cmap('gray')\n",
        "np.set_printoptions(precision=2)\n",
        "\n",
        "\n",
        "import torch\n",
        "import torchvision\n",
        "import torchvision.transforms as transforms\n",
        "import torch.nn as nn\n",
        "import torch.nn.functional as F\n",
        "import torch.optim as optim\n",
        "from torch.utils.data import DataLoader\n",
        "from copy import deepcopy\n",
        "\n",
        "\n",
        "import inspect\n",
        "import re\n",
        "import pprint"
      ]
    },
    {
      "cell_type": "markdown",
      "metadata": {
        "id": "15XifXfwrviU"
      },
      "source": [
        "## Mount Google Drive"
      ]
    },
    {
      "cell_type": "code",
      "execution_count": 2,
      "metadata": {
        "colab": {
          "base_uri": "https://localhost:8080/"
        },
        "id": "NKd_r1C-rucF",
        "outputId": "c09e3471-6951-4b70-9fca-521418c6fc5a",
        "vscode": {
          "languageId": "python"
        }
      },
      "outputs": [
        {
          "output_type": "stream",
          "name": "stdout",
          "text": [
            "Mounted at /content/drive\n"
          ]
        }
      ],
      "source": [
        "from google.colab import drive\n",
        "drive.mount('/content/drive')"
      ]
    },
    {
      "cell_type": "code",
      "execution_count": 3,
      "metadata": {
        "id": "fNR6HA1gsDT3",
        "vscode": {
          "languageId": "python"
        }
      },
      "outputs": [],
      "source": [
        "import sys, os\n",
        "weights_dir = '/content/drive/MyDrive/ML_Systems/HW4/weights'\n",
        "data_dir = '/content/drive/MyDrive/ML_Systems/HW4/data'"
      ]
    },
    {
      "cell_type": "markdown",
      "metadata": {
        "id": "FG3WW1Owq1Fh"
      },
      "source": [
        "**Reminder:** set the runtime type to \"GPU\", or your code will run much more slowly on a CPU."
      ]
    },
    {
      "cell_type": "code",
      "execution_count": 4,
      "metadata": {
        "id": "A3RF5VmcoUMG",
        "vscode": {
          "languageId": "python"
        }
      },
      "outputs": [],
      "source": [
        "if torch.cuda.is_available():\n",
        "    device = torch.device('cuda')\n",
        "else:\n",
        "    device = torch.device('cpu')"
      ]
    },
    {
      "cell_type": "markdown",
      "metadata": {
        "id": "nCaMDWYArEXO"
      },
      "source": [
        "# Section 2: Convolutional Neural Networks\n",
        "\n",
        "**Note**: This section is similar to HW2.\n",
        "\n",
        "The construction of neural networks is facilitated through the utilization of the ``torch.nn`` package within the PyTorch framework.\n",
        "\n",
        "A standard process for training a neural network involves the following steps:\n",
        "\n",
        "1. **Neural Network Definition:** The first step entails defining the architecture of the neural network, which encompasses the design of its interconnected layers and the inclusion of learnable parameters, often referred to as weights.\n",
        "\n",
        "2. **Iterative Data Processing:** Next, the training procedure involves iterating through a dataset containing input samples. Each input is fed into the neural network for processing.\n",
        "\n",
        "3. **Forward Propagation:** During this phase, the input data is passed through the neural network's layers, activating its neurons through weighted connections and producing an output prediction.\n",
        "\n",
        "4. **Loss Computation:** The output generated by the network is then compared to the actual desired output, leading to the computation of a loss value. This loss signifies the discrepancy between the predicted outcome and the true value.\n",
        "\n",
        "5. **Backpropagation:** After calculating the loss, the gradients of the loss with respect to the network's parameters are computed through a process called backpropagation. This entails tracing how changes in the parameters affect the loss.\n",
        "\n",
        "6. **Gradient Update:** The gradients computed during backpropagation are used to adjust the network's weights. A common method involves updating the weights by subtracting a scaled gradient value from the current weights. The scale factor, known as the learning rate, determines the step size of the update. This update rule can be expressed as: ``weight = weight - learning_rate * gradient``.\n",
        "\n",
        "Throughout this iterative process, the neural network's parameters are fine-tuned to minimize the loss and enhance its predictive accuracy. This sequence of steps forms the backbone of training neural networks, enabling them to learn and improve their performance over time.\n",
        "\n",
        "In this assignment we will create a simple CNN.\n",
        "\n",
        "\n",
        "To begin this section, we will load the CIFAR10 dataset and train a simple convolutional neural network (CNN) to classify the images.\n",
        "\n",
        "The CIFAR10 dataset has the classes:\n",
        "\n",
        "* `airplane`\n",
        "* `automobile`\n",
        "* `bird`\n",
        "* `cat`\n",
        "* `deer`\n",
        "* `dog`\n",
        "* `frog`\n",
        "* `horse`\n",
        "* `ship`\n",
        "* `truck`\n",
        "\n",
        "The images in CIFAR-10 are of size:\n",
        "\n",
        "* `3x32x32`\n",
        "\n",
        "i.e. 3-channel color images of `32x32` pixels in size.\n",
        "\n",
        "To load the data, we use a package called\n",
        "``torchvision``, that has data loaders for common datasets such as\n",
        "ImageNet, CIFAR10, MNIST, etc. and data transformers for images, namely,\n",
        "``torchvision.datasets`` and ``torch.utils.data.DataLoader``.\n",
        "\n",
        "\n",
        "In the following code, we perform the following:\n",
        "\n",
        "* Define a batch size for processing multiple images in each iteration.\n",
        "* Create a series of transformations to be applied to the images in the dataset: converting images to tensors and normalizing the pixel values.\n",
        "* Load the CIFAR10 **training** and **test** datasets, specifying the root directory, training mode, and transformations.\n",
        "* Construct a DataLoader for the **training** and **test** datasets with batch processing, shuffling, and parallel data loading."
      ]
    },
    {
      "cell_type": "code",
      "execution_count": 5,
      "metadata": {
        "colab": {
          "base_uri": "https://localhost:8080/"
        },
        "id": "_5UuOjjrnogR",
        "outputId": "b91a2ebb-f2de-4712-ebd7-66afd8b44ec5",
        "vscode": {
          "languageId": "python"
        }
      },
      "outputs": [
        {
          "output_type": "stream",
          "name": "stdout",
          "text": [
            "Downloading https://www.cs.toronto.edu/~kriz/cifar-10-python.tar.gz to /content/drive/MyDrive/ML_Systems/HW4/data/cifar-10-python.tar.gz\n"
          ]
        },
        {
          "output_type": "stream",
          "name": "stderr",
          "text": [
            "100%|██████████| 170498071/170498071 [00:03<00:00, 46681495.68it/s]\n"
          ]
        },
        {
          "output_type": "stream",
          "name": "stdout",
          "text": [
            "Extracting /content/drive/MyDrive/ML_Systems/HW4/data/cifar-10-python.tar.gz to /content/drive/MyDrive/ML_Systems/HW4/data\n",
            "Files already downloaded and verified\n"
          ]
        }
      ],
      "source": [
        "# Set the batch size for data processing\n",
        "batch_size = 4\n",
        "\n",
        "# Define the mean values and standard deviation values for normalization\n",
        "mean_values = (0.5, 0.5, 0.5)  # Mean values for red, green, and blue channels\n",
        "std_values = (0.5, 0.5, 0.5)   # Standard deviation values for red, green, and blue channels\n",
        "\n",
        "# Define the transformation pipeline\n",
        "transform = transforms.Compose([\n",
        "    transforms.ToTensor(),                  # Convert images to tensors\n",
        "    transforms.Normalize(mean_values, std_values)  # Normalize tensor values\n",
        "])\n",
        "\n",
        "# Load the CIFAR10 training dataset and apply the defined transformations\n",
        "trainset = torchvision.datasets.CIFAR10(root=data_dir, train=True,\n",
        "                                        download=True, transform=transform)\n",
        "\n",
        "# Create a DataLoader to efficiently load and process training data in batches\n",
        "trainloader = torch.utils.data.DataLoader(trainset, batch_size=batch_size,\n",
        "                                          shuffle=True, num_workers=2)\n",
        "\n",
        "# Load the CIFAR10 test dataset and apply the same transformations as for training\n",
        "testset = torchvision.datasets.CIFAR10(root=data_dir, train=False,\n",
        "                                       download=True, transform=transform)\n",
        "\n",
        "# Create a DataLoader for test data\n",
        "testloader = torch.utils.data.DataLoader(testset, batch_size=batch_size,\n",
        "                                         shuffle=False, num_workers=2)\n",
        "\n",
        "classes = ('plane', 'car', 'bird', 'cat',\n",
        "           'deer', 'dog', 'frog', 'horse', 'ship', 'truck')"
      ]
    },
    {
      "cell_type": "markdown",
      "metadata": {
        "id": "4LMb7NPmiNfo"
      },
      "source": [
        "Let's view some of the images."
      ]
    },
    {
      "cell_type": "code",
      "execution_count": 6,
      "metadata": {
        "colab": {
          "base_uri": "https://localhost:8080/",
          "height": 211
        },
        "id": "01HjHP7EiQDq",
        "outputId": "0a599cd6-4876-41a5-9fd5-d939850dd9a0",
        "vscode": {
          "languageId": "python"
        }
      },
      "outputs": [
        {
          "output_type": "display_data",
          "data": {
            "text/plain": [
              "<Figure size 640x480 with 1 Axes>"
            ],
            "image/png": "[encoded data removed]"
          },
          "metadata": {}
        },
        {
          "output_type": "stream",
          "name": "stdout",
          "text": [
            "Labels: cat   deer  car   plane\n"
          ]
        }
      ],
      "source": [
        "\n",
        "# Define a function to display images\n",
        "def imshow(img):\n",
        "    # Unnormalize the image\n",
        "    # The normalization was done using this formula:\n",
        "    # img_norm = (img - mean) / std\n",
        "    # So we unnormalize as follows:\n",
        "    img = img * 0.5 + 0.5\n",
        "\n",
        "    npimg = img.numpy()\n",
        "\n",
        "\n",
        "    #The image array is typically stored in the order [height, width, channels],\n",
        "    #but the plt.imshow function expects the image array to be stored in the\n",
        "    #order [channels, width, height].\n",
        "    #The np.transpose function transposes the image array,\n",
        "    #so that it is stored in the correct order.\n",
        "    plt.imshow(np.transpose(npimg, (1, 2, 0)))\n",
        "\n",
        "    # Display the image\n",
        "    plt.show()\n",
        "\n",
        "# Get some random training images\n",
        "dataiter = iter(trainloader)\n",
        "images, labels = next(dataiter)\n",
        "\n",
        "# Show the images using the imshow function\n",
        "imshow(torchvision.utils.make_grid(images))\n",
        "\n",
        "# Print labels\n",
        "print('Labels:', ' '.join(f'{classes[labels[j]]:5s}' for j in range(batch_size)))"
      ]
    },
    {
      "cell_type": "markdown",
      "metadata": {
        "id": "l62CkyIwtSOv"
      },
      "source": [
        "Define a simple CNN that classifies CIFAR images."
      ]
    },
    {
      "cell_type": "code",
      "execution_count": 7,
      "metadata": {
        "id": "9fL3F-7Rntog",
        "vscode": {
          "languageId": "python"
        },
        "colab": {
          "base_uri": "https://localhost:8080/"
        },
        "outputId": "77712327-8f92-4bc0-8bf5-901350e0e8db"
      },
      "outputs": [
        {
          "output_type": "stream",
          "name": "stdout",
          "text": [
            "Collecting torchinfo\n",
            "  Downloading torchinfo-1.8.0-py3-none-any.whl (23 kB)\n",
            "Installing collected packages: torchinfo\n",
            "Successfully installed torchinfo-1.8.0\n"
          ]
        },
        {
          "output_type": "execute_result",
          "data": {
            "text/plain": [
              "==========================================================================================\n",
              "Layer (type:depth-idx)                   Output Shape              Param #\n",
              "==========================================================================================\n",
              "Net                                      [4, 10]                   --\n",
              "├─Conv2d: 1-1                            [4, 6, 28, 28]            450\n",
              "├─MaxPool2d: 1-2                         [4, 6, 14, 14]            --\n",
              "├─Conv2d: 1-3                            [4, 16, 10, 10]           2,400\n",
              "├─MaxPool2d: 1-4                         [4, 16, 5, 5]             --\n",
              "├─Linear: 1-5                            [4, 120]                  48,000\n",
              "├─Linear: 1-6                            [4, 84]                   10,080\n",
              "├─Linear: 1-7                            [4, 10]                   840\n",
              "==========================================================================================\n",
              "Total params: 61,770\n",
              "Trainable params: 61,770\n",
              "Non-trainable params: 0\n",
              "Total mult-adds (M): 2.61\n",
              "==========================================================================================\n",
              "Input size (MB): 0.05\n",
              "Forward/backward pass size (MB): 0.21\n",
              "Params size (MB): 0.25\n",
              "Estimated Total Size (MB): 0.50\n",
              "=========================================================================================="
            ]
          },
          "metadata": {},
          "execution_count": 7
        }
      ],
      "source": [
        "class Net(nn.Module):\n",
        "    def __init__(self):\n",
        "        super(Net, self).__init__()\n",
        "\n",
        "        # Define the layers of the neural network architecture\n",
        "\n",
        "        # First convolutional layer: 3 input channels, 6 output channels, kernel size 5x5\n",
        "        self.conv1 = nn.Conv2d(3, 6, 5, bias=False)\n",
        "\n",
        "        # Max pooling layer with kernel size 2x2 and stride 2\n",
        "        self.pool = nn.MaxPool2d(2, 2)\n",
        "\n",
        "        # Second convolutional layer: 6 input channels, 16 output channels, kernel size 5x5\n",
        "        self.conv2 = nn.Conv2d(6, 16, 5, bias=False)\n",
        "\n",
        "        # Fully connected (dense) layers\n",
        "\n",
        "        # First fully connected layer: 16*5*5 input features, 120 output features\n",
        "        self.fc1 = nn.Linear(16 * 5 * 5, 120, bias=False)\n",
        "\n",
        "        # Second fully connected layer: 120 input features, 84 output features\n",
        "        self.fc2 = nn.Linear(120, 84, bias=False)\n",
        "\n",
        "        # Third fully connected layer: 84 input features, 10 output features (for classification)\n",
        "        self.fc3 = nn.Linear(84, 10, bias=False)\n",
        "\n",
        "    def forward(self, x: torch.Tensor) -> torch.Tensor:\n",
        "        # Forward pass through the neural network\n",
        "\n",
        "        # Apply first convolutional layer, followed by ReLU activation and max pooling\n",
        "        x = self.pool(F.relu(self.conv1(x)))\n",
        "\n",
        "        # Apply second convolutional layer, followed by ReLU activation and max pooling\n",
        "        x = self.pool(F.relu(self.conv2(x)))\n",
        "\n",
        "        # The output from the convolutional and pooling layers is in the form of a\n",
        "        # 3D tensor (height, width, depth or channels).\n",
        "        # To feed this tensor into a fully connected layer,\n",
        "        # it needs to be flattened into a 1D tensor.\n",
        "        # Reshape tensor for fully connected layers\n",
        "        # A2D tensor with a shape of [batch_size, 16 * 5 * 5].\n",
        "        x = x.view(-1, 16 * 5 * 5)\n",
        "\n",
        "        # Apply first fully connected layer, followed by ReLU activation\n",
        "        x = F.relu(self.fc1(x))\n",
        "\n",
        "        # Apply second fully connected layer, followed by ReLU activation\n",
        "        x = F.relu(self.fc2(x))\n",
        "\n",
        "        # Apply third fully connected layer (output layer)\n",
        "        x = self.fc3(x)\n",
        "\n",
        "        return x\n",
        "\n",
        "# Create an instance of the neural network and move it to the specified device (e.g., GPU)\n",
        "net = Net().to(device)\n",
        "!pip install torchinfo\n",
        "from torchinfo import summary\n",
        "summary(net,(4,3,32,32))"
      ]
    },
    {
      "cell_type": "markdown",
      "metadata": {
        "id": "Nijieuxptag6"
      },
      "source": [
        "Train this CNN on the training dataset (this may take a few moments)."
      ]
    },
    {
      "cell_type": "code",
      "execution_count": 8,
      "metadata": {
        "id": "CzK6ohj5oNCT",
        "vscode": {
          "languageId": "python"
        }
      },
      "outputs": [],
      "source": [
        "def train(model: nn.Module, dataloader: DataLoader):\n",
        "    # Define the loss criterion and optimizer\n",
        "    criterion = nn.CrossEntropyLoss()  # Cross-entropy loss for classification\n",
        "    optimizer = optim.SGD(model.parameters(), lr=0.001, momentum=0.9)  # SGD optimizer with momentum\n",
        "\n",
        "    for epoch in range(2):  # Loop over the dataset for multiple epochs\n",
        "        running_loss = 0.0\n",
        "\n",
        "        # Iterate over mini-batches of data\n",
        "        for i, data in enumerate(dataloader, 0):\n",
        "            # Get the inputs; data is a list of [inputs, labels]\n",
        "            inputs, labels = data\n",
        "\n",
        "            inputs = inputs.to(device)  # Move inputs to the specified device\n",
        "            labels = labels.to(device)  # Move labels to the specified device\n",
        "\n",
        "            # Zero the gradients in the optimizer\n",
        "            optimizer.zero_grad()\n",
        "\n",
        "            # Forward pass + backward pass (backpropagation) + optimization\n",
        "            outputs = model(inputs)  # Forward pass through the model\n",
        "            loss = criterion(outputs, labels)  # Calculate the loss\n",
        "            loss.backward()  # Compute gradients\n",
        "            optimizer.step()  # Update model parameters\n",
        "\n",
        "            # Print statistics\n",
        "            running_loss += loss.item()\n",
        "            if i % 2000 == 1999:  # Print every 2000 mini-batches\n",
        "                print('[%d, %5d] loss: %.3f' %\n",
        "                    (epoch + 1, i + 1, running_loss / 2000))\n",
        "                running_loss = 0.0\n",
        "\n",
        "    print('Finished Training')  # Training loop is complete\n",
        "    PATH = os.path.join(weights_dir, 'cifar_net.pth')\n",
        "    torch.save(net.state_dict(), PATH)\n",
        "\n"
      ]
    },
    {
      "cell_type": "code",
      "execution_count": 9,
      "metadata": {
        "colab": {
          "base_uri": "https://localhost:8080/"
        },
        "id": "HixhBHaqtmZU",
        "outputId": "541ee22b-7d43-4c15-bff8-cfde7cda2009",
        "vscode": {
          "languageId": "python"
        }
      },
      "outputs": [
        {
          "output_type": "stream",
          "name": "stdout",
          "text": [
            "[1,  2000] loss: 2.181\n",
            "[1,  4000] loss: 1.879\n",
            "[1,  6000] loss: 1.723\n",
            "[1,  8000] loss: 1.635\n",
            "[1, 10000] loss: 1.564\n",
            "[1, 12000] loss: 1.518\n",
            "[2,  2000] loss: 1.437\n",
            "[2,  4000] loss: 1.403\n",
            "[2,  6000] loss: 1.367\n",
            "[2,  8000] loss: 1.370\n",
            "[2, 10000] loss: 1.344\n",
            "[2, 12000] loss: 1.336\n",
            "Finished Training\n"
          ]
        }
      ],
      "source": [
        "train(net, trainloader)"
      ]
    },
    {
      "cell_type": "markdown",
      "metadata": {
        "id": "EJggxnCVuRxU"
      },
      "source": [
        "Now that the CNN has been trained, let's test it on our test dataset."
      ]
    },
    {
      "cell_type": "code",
      "execution_count": 10,
      "metadata": {
        "colab": {
          "base_uri": "https://localhost:8080/",
          "height": 229
        },
        "id": "ifYWr5qFrzdc",
        "outputId": "6fceff0b-1abf-492d-bb7f-de6c268be241",
        "vscode": {
          "languageId": "python"
        }
      },
      "outputs": [
        {
          "output_type": "display_data",
          "data": {
            "text/plain": [
              "<Figure size 640x480 with 1 Axes>"
            ],
            "image/png": "[encoded data removed]"
          },
          "metadata": {}
        },
        {
          "output_type": "stream",
          "name": "stdout",
          "text": [
            "GroundTruth:  cat   ship  ship  plane\n",
            "Predicted:  ship  plane plane plane\n"
          ]
        }
      ],
      "source": [
        "dataiter = iter(testloader)\n",
        "images, labels = next(dataiter)\n",
        "\n",
        "# print images\n",
        "imshow(torchvision.utils.make_grid(images))\n",
        "print('GroundTruth: ', ' '.join(f'{classes[labels[j]]:5s}' for j in range(4)))\n",
        "\n",
        "\n",
        "# net = Net()\n",
        "# net.load_state_dict(torch.load(PATH))\n",
        "net.cuda()\n",
        "images = images.cuda()\n",
        "outputs = net(images)\n",
        "_, predicted = torch.max(outputs, 1)\n",
        "\n",
        "print('Predicted: ', ' '.join(f'{classes[predicted[j]]:5s}'\n",
        "                              for j in range(4)))"
      ]
    },
    {
      "cell_type": "markdown",
      "metadata": {
        "id": "vW3U7pourwjT"
      },
      "source": [
        "Let us look at how the network performs on the whole dataset.\n"
      ]
    },
    {
      "cell_type": "code",
      "execution_count": 11,
      "metadata": {
        "colab": {
          "base_uri": "https://localhost:8080/"
        },
        "id": "y27_n-djuEdz",
        "outputId": "169aa3e8-292e-42b4-ab11-06acac106b89",
        "vscode": {
          "languageId": "python"
        }
      },
      "outputs": [
        {
          "output_type": "stream",
          "name": "stdout",
          "text": [
            "Accuracy of the network on the test images: 53.69%\n"
          ]
        }
      ],
      "source": [
        "\n",
        "# A function to evaluate the performance of a given neural network model\n",
        "# using a test dataset.\n",
        "# It calculates the accuracy of the model's predictions on the test data.\n",
        "def calculate_accuracy(model: nn.Module, dataloader: DataLoader, max_samples=None) -> float:\n",
        "    correct_predictions = 0  # Initialize the count of correctly predicted samples\n",
        "    total_samples = 0    # Initialize the count of total samples\n",
        "    inference_count = 0  # Initialize the count of inferences made\n",
        "\n",
        "    with torch.no_grad():  # Disable gradient calculation for inference\n",
        "        for batch_data in dataloader:\n",
        "            images, labels = batch_data  # Separate images and labels from the batch\n",
        "\n",
        "            images = images.to(device)  # Move images to the specified device\n",
        "            labels = labels.to(device)  # Move labels to the specified device\n",
        "\n",
        "            outputs = model(images)  # Forward pass to get model predictions\n",
        "            _, predicted = torch.max(outputs.data, 1)  # Get predicted class indices\n",
        "\n",
        "            total_samples += labels.size(0)  # Increment the total count of samples\n",
        "            correct_predictions += (predicted == labels).sum().item()  # Count correct predictions\n",
        "\n",
        "            if max_samples:  # Check if a maximum number of samples for testing is specified\n",
        "                inference_count += images.shape[0]  # Increment the count of inferences made\n",
        "                if inference_count > max_samples:  # Stop testing if maximum samples reached\n",
        "                    break\n",
        "\n",
        "    accuracy = 100 * correct_predictions / total_samples  # Calculate the accuracy as a percentage\n",
        "    return accuracy\n",
        "\n",
        "score = calculate_accuracy(net, testloader)\n",
        "print('Accuracy of the network on the test images: {}%'.format(score))"
      ]
    },
    {
      "cell_type": "markdown",
      "metadata": {
        "id": "SQZoEjBSveV8"
      },
      "source": [
        "## Question 1: Visualize Weights\n",
        "\n",
        "Write a function that takes one layer of our network and plots the historgram of its paramters. Use this signature:\n",
        "\n",
        "```python\n",
        "def analyze_layer_weights(layer: nn.Module):\n",
        "```"
      ]
    },
    {
      "cell_type": "code",
      "execution_count": 12,
      "metadata": {
        "id": "PoySOC4WDk5F",
        "vscode": {
          "languageId": "python"
        }
      },
      "outputs": [],
      "source": [
        "def analyze_layer_weights(layer: nn.Module):\n",
        "    # Extract and flatten the weights of the given layer\n",
        "    layer_weights = layer.weight.data.cpu().view(-1)\n",
        "\n",
        "    # Get layer type (Conv2d or Linear) for better title\n",
        "    layer_type = type(layer).__name__\n",
        "\n",
        "    # Plot a histogram of the flattened layer weights\n",
        "    plt.hist(layer_weights, density=True, bins=50)\n",
        "    plt.title(f\"{layer_type} Layer Weights Histogram\")\n",
        "    plt.xlabel(\"Weight Value\")\n",
        "    plt.ylabel(\"Density\")\n",
        "    plt.show()\n",
        "\n",
        "    # Calculate the upper and lower bounds of the range within 3 standard deviations\n",
        "    layer_weights_3sigma_max = (layer_weights.mean() + 3 * layer_weights.std()).item()\n",
        "    layer_weights_3sigma_min = (layer_weights.mean() - 3 * layer_weights.std()).item()\n",
        "\n",
        "    # Calculate the range of weights and the 3-sigma range for the layer\n",
        "    weight_range = layer_weights.max() - layer_weights.min()\n",
        "    sigma_range = layer_weights_3sigma_max - layer_weights_3sigma_min\n",
        "\n",
        "    print(f\"{layer_type} Layer Weight Range: {weight_range.item()}\")\n",
        "    print(f\"{layer_type} Layer 3-Sigma Range: {sigma_range}\")"
      ]
    },
    {
      "cell_type": "code",
      "execution_count": 13,
      "metadata": {
        "colab": {
          "base_uri": "https://localhost:8080/",
          "height": 508
        },
        "id": "7qv8ZLXiDgrf",
        "outputId": "08f648fe-5d70-4744-ef74-3975674b3650",
        "vscode": {
          "languageId": "python"
        }
      },
      "outputs": [
        {
          "output_type": "display_data",
          "data": {
            "text/plain": [
              "<Figure size 640x480 with 1 Axes>"
            ],
            "image/png": "[encoded data removed]"
          },
          "metadata": {}
        },
        {
          "output_type": "stream",
          "name": "stdout",
          "text": [
            "Conv2d Layer Weight Range: 1.1896440982818604\n",
            "Conv2d Layer 3-Sigma Range: 1.2152721881866455\n"
          ]
        }
      ],
      "source": [
        "analyze_layer_weights(net.conv1)"
      ]
    },
    {
      "cell_type": "code",
      "execution_count": 14,
      "metadata": {
        "colab": {
          "base_uri": "https://localhost:8080/",
          "height": 508
        },
        "id": "5xjQyehq5lA4",
        "outputId": "52dc87c0-1b18-4be7-f210-c4e74d8b77a9",
        "vscode": {
          "languageId": "python"
        }
      },
      "outputs": [
        {
          "output_type": "display_data",
          "data": {
            "text/plain": [
              "<Figure size 640x480 with 1 Axes>"
            ],
            "image/png": "[encoded data removed]"
          },
          "metadata": {}
        },
        {
          "output_type": "stream",
          "name": "stdout",
          "text": [
            "Conv2d Layer Weight Range: 0.9802130460739136\n",
            "Conv2d Layer 3-Sigma Range: 0.7050857543945312\n"
          ]
        }
      ],
      "source": [
        "analyze_layer_weights(net.conv2)"
      ]
    },
    {
      "cell_type": "code",
      "execution_count": 15,
      "metadata": {
        "colab": {
          "base_uri": "https://localhost:8080/",
          "height": 508
        },
        "id": "j9CnTZCD5lmn",
        "outputId": "501da659-2ca3-4f99-be18-dee489015fd9",
        "vscode": {
          "languageId": "python"
        }
      },
      "outputs": [
        {
          "output_type": "display_data",
          "data": {
            "text/plain": [
              "<Figure size 640x480 with 1 Axes>"
            ],
            "image/png": "[encoded data removed]"
          },
          "metadata": {}
        },
        {
          "output_type": "stream",
          "name": "stdout",
          "text": [
            "Linear Layer Weight Range: 0.5020726919174194\n",
            "Linear Layer 3-Sigma Range: 0.2555971145629883\n"
          ]
        }
      ],
      "source": [
        "analyze_layer_weights(net.fc1)"
      ]
    },
    {
      "cell_type": "code",
      "execution_count": 16,
      "metadata": {
        "colab": {
          "base_uri": "https://localhost:8080/",
          "height": 508
        },
        "id": "VYWkOW145mJE",
        "outputId": "6a76276c-1436-4480-f4de-c9c4a5b870d7",
        "vscode": {
          "languageId": "python"
        }
      },
      "outputs": [
        {
          "output_type": "display_data",
          "data": {
            "text/plain": [
              "<Figure size 640x480 with 1 Axes>"
            ],
            "image/png": "[encoded data removed]"
          },
          "metadata": {}
        },
        {
          "output_type": "stream",
          "name": "stdout",
          "text": [
            "Linear Layer Weight Range: 0.483490526676178\n",
            "Linear Layer 3-Sigma Range: 0.38457190990448\n"
          ]
        }
      ],
      "source": [
        "analyze_layer_weights(net.fc2)"
      ]
    },
    {
      "cell_type": "code",
      "execution_count": 17,
      "metadata": {
        "colab": {
          "base_uri": "https://localhost:8080/",
          "height": 508
        },
        "id": "v893WZ9_5wpW",
        "outputId": "6606c8ee-0680-4a14-e6a5-56d124471c4d",
        "vscode": {
          "languageId": "python"
        }
      },
      "outputs": [
        {
          "output_type": "display_data",
          "data": {
            "text/plain": [
              "<Figure size 640x480 with 1 Axes>"
            ],
            "image/png": "[encoded data removed]"
          },
          "metadata": {}
        },
        {
          "output_type": "stream",
          "name": "stdout",
          "text": [
            "Linear Layer Weight Range: 0.8546376824378967\n",
            "Linear Layer 3-Sigma Range: 0.7739283442497253\n"
          ]
        }
      ],
      "source": [
        "analyze_layer_weights(net.fc3)"
      ]
    },
    {
      "cell_type": "markdown",
      "metadata": {
        "id": "GNb1bvuNdfST"
      },
      "source": [
        "# Quantizing Weights\n",
        "\n",
        "Remember that for matrix multiplication, we had:\n",
        "\n",
        "$$\\mathbf{y} = \\mathbf{W}\\mathbf{x}$$\n",
        "\n",
        "If we only quantize weights, we would have the following:\n",
        "\n",
        "$$\\mathbf{y} = \\mathbf{W^q}\\mathbf{x}$$\n",
        "\n",
        "In this section, we only quantize the weights and measure the accuracy."
      ]
    },
    {
      "cell_type": "markdown",
      "metadata": {
        "id": "23ouULZdDQjP"
      },
      "source": [
        "## Copy the model\n",
        "\n",
        "Take a look at the following function called `copy_model` to deep copy the model. No need to change this."
      ]
    },
    {
      "cell_type": "code",
      "execution_count": 18,
      "metadata": {
        "id": "paN5twuiDMgI",
        "vscode": {
          "languageId": "python"
        }
      },
      "outputs": [],
      "source": [
        "from copy import deepcopy\n",
        "\n",
        "def copy_model(model: nn.Module) -> nn.Module:\n",
        "    result = deepcopy(model)\n",
        "\n",
        "    # Copy over the extra metadata we've collected which copy.deepcopy doesn't capture\n",
        "    if hasattr(model, 'input_activations'):\n",
        "        result.input_activations = deepcopy(model.input_activations)\n",
        "\n",
        "    for result_layer, original_layer in zip(result.children(), model.children()):\n",
        "        if isinstance(result_layer, nn.Conv2d) or isinstance(result_layer, nn.Linear):\n",
        "            if hasattr(original_layer.weight, 'scale'):\n",
        "                result_layer.weight.scale = deepcopy(original_layer.weight.scale)\n",
        "            if hasattr(original_layer, 'activations'):\n",
        "                result_layer.activations = deepcopy(original_layer.activations)\n",
        "            if hasattr(original_layer, 'output_scale'):\n",
        "                result_layer.output_scale = deepcopy(original_layer.output_scale)\n",
        "\n",
        "    return result"
      ]
    },
    {
      "cell_type": "code",
      "execution_count": 19,
      "metadata": {
        "id": "NTRaY4wqC_2X",
        "vscode": {
          "languageId": "python"
        }
      },
      "outputs": [],
      "source": [
        "net_q2 = copy_model(net)"
      ]
    },
    {
      "cell_type": "markdown",
      "metadata": {
        "id": "LygbqE5tEC_V"
      },
      "source": [
        "## Quantize Weights\n",
        "\n",
        "Complete the following function, `quantized_weights` to quantize the weights.\n",
        "This function should quantize the weights to 8-bit integers."
      ]
    },
    {
      "cell_type": "code",
      "execution_count": 20,
      "metadata": {
        "id": "gvuEOeZFF_lz",
        "vscode": {
          "languageId": "python"
        }
      },
      "outputs": [],
      "source": [
        "import torch\n",
        "from typing import Tuple\n",
        "\n",
        "def quantized_weights(weights: torch.Tensor) -> Tuple[torch.Tensor, float]:\n",
        "    '''\n",
        "    Quantize the weights so that all values are integers between -128 and 127.\n",
        "    Use the 3-sigma range for determining the scaling factor.\n",
        "\n",
        "    Parameters:\n",
        "    weights (Tensor): The unquantized weights\n",
        "\n",
        "    Returns:\n",
        "    (Tensor, float): A tuple with the following elements:\n",
        "                        * The weights in quantized form, where every value is an integer between -128 and 127.\n",
        "                          The \"dtype\" will still be \"float\", but the values themselves should all be integers.\n",
        "                        * The scaling factor that your weights were multiplied by.\n",
        "                          This value does not need to be an 8-bit integer.\n",
        "    '''\n",
        "\n",
        "    # TODO: Add your code here.\n"
      ]
    },
    {
      "cell_type": "code",
      "source": [
        "verbose = True\n",
        "bit_width = 8"
      ],
      "metadata": {
        "id": "Q18j3MMAB5MY"
      },
      "execution_count": 21,
      "outputs": []
    },
    {
      "cell_type": "code",
      "source": [
        "import torch\n",
        "from typing import Tuple\n",
        "\n",
        "def quantized_weights(weights: torch.Tensor) -> Tuple[torch.Tensor, float]:\n",
        "    '''\n",
        "    Quantize the weights so that all values are integers between -128 and 127.\n",
        "    Use the 3-sigma range for determining the scaling factor.\n",
        "\n",
        "    Parameters:\n",
        "    weights (Tensor): The unquantized weights\n",
        "\n",
        "    Returns:\n",
        "    (Tensor, float): A tuple with the following elements:\n",
        "                        * The weights in quantized form, where every value is an integer between -128 and 127.\n",
        "                          The \"dtype\" will still be \"float\", but the values themselves should all be integers.\n",
        "                        * The scaling factor that your weights were multiplied by.\n",
        "                          This value does not need to be an 8-bit integer.\n",
        "    '''\n",
        "\n",
        "    # Calculate the standard deviation of the weights\n",
        "    std_dev = 3 * weights.std().item()\n",
        "\n",
        "    #range of weights and the 3-sigma range for the layer\n",
        "    weight_range = weights.max() - weights.min()\n",
        "\n",
        "    # Determine the scaling factor (3-sigma range)\n",
        "    if (bit_width == 4):\n",
        "      scale_factor = 7/std_dev;\n",
        "      quantized_weights_round = torch.clip(torch.round(weights*scale_factor),-8,7);\n",
        "\n",
        "    else:\n",
        "      scale_factor = 127/std_dev;\n",
        "      quantized_weights_round = torch.clip(torch.round(weights*scale_factor),-128,127);\n",
        "\n",
        "    # Quantize the weights by scaling and rounding to integers\n",
        "    #quantized_weights = (weights / scale_factor).clamp(min=-128, max=127).round()\n",
        "    if verbose == True: print(f'quantized weights max: {quantized_weights_round.max()} min: {quantized_weights_round.min()}')\n",
        "    return (quantized_weights_round, scale_factor)\n",
        "\n"
      ],
      "metadata": {
        "id": "Ls3t5Wbb4AC2"
      },
      "execution_count": 22,
      "outputs": []
    },
    {
      "cell_type": "code",
      "execution_count": 23,
      "metadata": {
        "id": "FO8TMLwvGEst",
        "vscode": {
          "languageId": "python"
        },
        "colab": {
          "base_uri": "https://localhost:8080/"
        },
        "outputId": "9e25d33e-e568-4375-93f9-b419d9ef9b0a"
      },
      "outputs": [
        {
          "output_type": "stream",
          "name": "stdout",
          "text": [
            "quantized weights max: 123.0 min: -125.0\n",
            "quantized weights max: 127.0 min: -128.0\n",
            "quantized weights max: 127.0 min: -128.0\n",
            "quantized weights max: 127.0 min: -128.0\n",
            "quantized weights max: 125.0 min: -128.0\n"
          ]
        }
      ],
      "source": [
        "# No need to change/modify this.\n",
        "def quantize_layer_weights(model: nn.Module):\n",
        "    '''\n",
        "    Quantizes the weights of Conv2d and Linear layers in a given PyTorch model.\n",
        "\n",
        "    The function iterates through the child layers of the input model.\n",
        "    For each Conv2d or Linear layer, it quantizes the weights to ensure\n",
        "    that every value is an integer between -128 and 127. The scaling factor\n",
        "    used for quantization is also stored as an attribute of the layer.\n",
        "\n",
        "    Parameters:\n",
        "    - model (nn.Module): The input PyTorch model whose weights need to be quantized.\n",
        "\n",
        "    Raises:\n",
        "    - Exception: If any quantized weight is out of the range [-128, 127].\n",
        "    - Exception: If any quantized weight is not an integer.\n",
        "    '''\n",
        "\n",
        "    # Iterate through the child layers of the model\n",
        "    for layer in model.children():\n",
        "\n",
        "        # Check if the layer is a Conv2d or Linear layer\n",
        "        if isinstance(layer, nn.Conv2d) or isinstance(layer, nn.Linear):\n",
        "\n",
        "            # Quantize the weights of the layer using the provided quantized_weights function\n",
        "            q_layer_data, scale = quantized_weights(layer.weight.data)\n",
        "\n",
        "            # Move the quantized weights to the same device as the original data\n",
        "            q_layer_data = q_layer_data.to(device)\n",
        "\n",
        "            # Replace the original weights with the quantized weights\n",
        "            layer.weight.data = q_layer_data\n",
        "\n",
        "            # Store the scaling factor used for quantization as an attribute of the layer\n",
        "            layer.weight.scale = scale\n",
        "\n",
        "            # Check if any quantized weight is outside the range [-128, 127]\n",
        "            if (q_layer_data < -128).any() or (q_layer_data > 127).any():\n",
        "                raise Exception(\"Quantized weights of {} layer include values out of bounds for an 8-bit signed integer\".format(layer.__class__.__name__))\n",
        "\n",
        "            # Check if any quantized weight is not an integer\n",
        "            if (q_layer_data != q_layer_data.round()).any():\n",
        "                raise Exception(\"Quantized weights of {} layer include non-integer values\".format(layer.__class__.__name__))\n",
        "\n",
        "\n",
        "quantize_layer_weights(net_q2)"
      ]
    },
    {
      "cell_type": "markdown",
      "metadata": {
        "id": "p09sLRgPHDWd"
      },
      "source": [
        "## Measure the accuracy\n",
        "What is the accuracy of the quantized network?"
      ]
    },
    {
      "cell_type": "code",
      "execution_count": 24,
      "metadata": {
        "colab": {
          "base_uri": "https://localhost:8080/"
        },
        "id": "wa2vNcEYHKet",
        "outputId": "aab916e6-1a65-4ee7-9600-efa8201f8670",
        "vscode": {
          "languageId": "python"
        }
      },
      "outputs": [
        {
          "output_type": "stream",
          "name": "stdout",
          "text": [
            "Accuracy of the net_q2 on the test images: 52.96%\n"
          ]
        }
      ],
      "source": [
        "score = calculate_accuracy(net_q2, testloader)\n",
        "print('Accuracy of the net_q2 on the test images: {}%'.format(score))"
      ]
    },
    {
      "cell_type": "markdown",
      "metadata": {
        "id": "S0Zgqo7bL6Se"
      },
      "source": [
        "## Visualize Activations\n",
        "\n",
        "In PyTorch, a hook offers a way for users to inspect or adjust the model's internal computations without altering its original structure. The two primary types of hooks are:\n",
        "\n",
        "1. Forward Hooks:\n",
        "Used during the forward computational pass to access or adjust layer inputs/outputs.\n",
        "\n",
        "2. Backward Hooks:\n",
        "Engaged during the backward pass (during gradient computations) to access or modify gradients.\n",
        "\n",
        "How to Use Hooks:\n",
        "Register the hook on a specific module using:\n",
        "register_forward_hook for forward hooks.\n",
        "register_backward_hook for backward hooks.\n",
        "The associated callback function will be triggered when the module processes data.\n",
        "Hooks serve as a potent tool in PyTorch, invaluable for tasks like debugging, visualization, and tailoring model behavior.\n",
        "\n",
        "We use these hooks to store the activations in the network."
      ]
    },
    {
      "cell_type": "code",
      "execution_count": 25,
      "metadata": {
        "id": "2xO-aNz3IMUg",
        "vscode": {
          "languageId": "python"
        }
      },
      "outputs": [],
      "source": [
        "def append_activations(target_array, x):\n",
        "    \"\"\"\n",
        "    Retrieve the activations from the first sample in the current batch (x[0]),\n",
        "    transfer them to the CPU, and flatten the multi-dimensional tensor into a 1D array.\n",
        "    Then, append this flattened array to the given target numpy array, which collects\n",
        "    the activations for further analysis or storage.\n",
        "\n",
        "    Parameters:\n",
        "    - target_array: Existing numpy array where activations will be appended.\n",
        "    - x: The PyTorch tensor representing the batch of activations.\n",
        "\n",
        "    Returns:\n",
        "    - Numpy array with the new activations appended.\n",
        "    \"\"\"\n",
        "    return np.append(target_array, x[0].cpu().view(-1))\n",
        "\n",
        "\n",
        "def register_activation_profiling_hooks(model: Net):\n",
        "    \"\"\"\n",
        "    Registers hooks on specified layers of a given PyTorch model to profile and\n",
        "    collect activations during the forward pass. These activations are stored\n",
        "    directly on the layers as numpy arrays, facilitating tasks like analysis or debugging.\n",
        "\n",
        "    The function sets an 'activations' attribute on each layer, which gets populated\n",
        "    with activations as the model processes data.\n",
        "\n",
        "    Parameters:\n",
        "    - model (Net): The PyTorch model on which hooks are to be registered.\n",
        "    \"\"\"\n",
        "\n",
        "    # List of layers to register hooks on\n",
        "    layers = [model.conv1, model.conv2, model.fc1, model.fc2, model.fc3]\n",
        "\n",
        "\n",
        "    # Register the input_hook to conv1.\n",
        "    def input_hook(conv1_layer, x):\n",
        "      \"\"\"Special hook for input activations, which are captured before conv1\"\"\"\n",
        "      model.input_activations = append_activations(model.input_activations, x)\n",
        "\n",
        "    model.input_activations = np.empty(0)\n",
        "\n",
        "    # The hook will be called every time before forward is invoked.\n",
        "    model.conv1.register_forward_pre_hook(input_hook)\n",
        "\n",
        "    # Register the hook for the output of each later.\n",
        "    def generic_hook(layer, x, y):\n",
        "      \"\"\"\n",
        "      A generic hook function designed to be registered with PyTorch layers.\n",
        "      During the forward pass, it captures the activations from the input tensor,\n",
        "      flattens them, and appends them to the layer's 'activations' attribute.\n",
        "\n",
        "      Parameters:\n",
        "      - layer: The PyTorch layer with which this hook is associated.\n",
        "      - x: Input tensor to the layer.\n",
        "      - y: Output tensor from the layer.\n",
        "      \"\"\"\n",
        "      layer.activations = append_activations(layer.activations, x)\n",
        "\n",
        "\n",
        "    for layer in layers:\n",
        "        # Initialize an empty numpy array to store activations for each layer\n",
        "        layer.activations = np.empty(0)\n",
        "\n",
        "        # Register the generic hook for each layer\n",
        "        layer.register_forward_hook(generic_hook)"
      ]
    },
    {
      "cell_type": "code",
      "execution_count": 26,
      "metadata": {
        "colab": {
          "base_uri": "https://localhost:8080/"
        },
        "id": "TF82ncF1IdRY",
        "outputId": "b6003aa9-05cd-4901-eac5-a066e6ef89b3",
        "vscode": {
          "languageId": "python"
        }
      },
      "outputs": [
        {
          "output_type": "execute_result",
          "data": {
            "text/plain": [
              "53.46534653465346"
            ]
          },
          "metadata": {},
          "execution_count": 26
        }
      ],
      "source": [
        "net_q3 = copy_model(net)\n",
        "register_activation_profiling_hooks(net_q3)\n",
        "\n",
        "# Run through the training dataset again while profiling the input and output activations this time\n",
        "calculate_accuracy(net_q3, trainloader, max_samples=400)\n"
      ]
    },
    {
      "cell_type": "markdown",
      "metadata": {
        "id": "4ix1rpG92g9Z"
      },
      "source": [
        "### Programming Question for Plotting Activations\n",
        "\n",
        "Write a function to plot the activations of each layer and call it to create all the plots. Record any observations you make about the distribution of the values."
      ]
    },
    {
      "cell_type": "code",
      "execution_count": 27,
      "metadata": {
        "id": "XRseyfsJkyFO",
        "vscode": {
          "languageId": "python"
        }
      },
      "outputs": [],
      "source": [
        "# TODO: Write your code here.\n",
        "\n",
        "def analyze_layer_activations(layer: nn.Module):\n",
        "    \"\"\"\n",
        "    Plot the distribution of activations for a given layer.\n",
        "\n",
        "    Parameters:\n",
        "    - layer_activations: Numpy array of activations for a specific layer.\n",
        "    - layer_name: Name of the layer for labeling the plot.\n",
        "    - num_bins: Number of bins for the histogram (default is 100).\n",
        "    \"\"\"\n",
        "    layer_activations = layer.activations.flatten()  #extract weights\n",
        "    #layer_activations = layer.activations.data.cpu().view(-1)\n",
        "    layer_type = type(layer).__name__   #layer type (convo or linear)\n",
        "\n",
        "\n",
        "    # Plot a histogram of the flattened layer weights\n",
        "    plt.hist(layer_activations, density=True, bins=50)\n",
        "    plt.title(f\"{layer_type} Layer activations Histogram\")\n",
        "    plt.xlabel(\"Activation Value\")\n",
        "    plt.ylabel(\"Density\")\n",
        "    plt.show()\n",
        "\n",
        "#upper and lower bound\n",
        "    layer_activations_3sigma_max = (layer_activations.mean() + 3 * layer_activations.std()).item()\n",
        "    layer_activations_3sigma_min = (layer_activations.mean() + 3 * layer_activations.std()).item()\n",
        "\n",
        "#range of weights\n",
        "    activations_range = layer_activations.max() - layer_activations.min()\n",
        "    sigma_range     = layer_activations_3sigma_max - layer_activations_3sigma_min\n",
        "\n",
        "    print(f\"{layer_type} Layer Activation: {activations_range.item()}\")\n",
        "    print(f\"{layer_type} Layer 3 sigma: {sigma_range}\")"
      ]
    },
    {
      "cell_type": "code",
      "execution_count": 28,
      "metadata": {
        "id": "bDrVmG5UkTi8",
        "vscode": {
          "languageId": "python"
        },
        "colab": {
          "base_uri": "https://localhost:8080/",
          "height": 1000
        },
        "outputId": "02415ce6-f247-4481-a957-44bd94b527ce"
      },
      "outputs": [
        {
          "output_type": "display_data",
          "data": {
            "text/plain": [
              "<Figure size 640x480 with 1 Axes>"
            ],
            "image/png": "[encoded data removed]"
          },
          "metadata": {}
        },
        {
          "output_type": "stream",
          "name": "stdout",
          "text": [
            "Conv2d Layer Activation: 2.0\n",
            "Conv2d Layer 3 sigma: 0.0\n"
          ]
        },
        {
          "output_type": "display_data",
          "data": {
            "text/plain": [
              "<Figure size 640x480 with 1 Axes>"
            ],
            "image/png": "[encoded data removed]"
          },
          "metadata": {}
        },
        {
          "output_type": "stream",
          "name": "stdout",
          "text": [
            "Conv2d Layer Activation: 8.859130859375\n",
            "Conv2d Layer 3 sigma: 0.0\n"
          ]
        },
        {
          "output_type": "display_data",
          "data": {
            "text/plain": [
              "<Figure size 640x480 with 1 Axes>"
            ],
            "image/png": "[encoded data removed]"
          },
          "metadata": {}
        },
        {
          "output_type": "stream",
          "name": "stdout",
          "text": [
            "Linear Layer Activation: 13.036656379699707\n",
            "Linear Layer 3 sigma: 0.0\n"
          ]
        },
        {
          "output_type": "display_data",
          "data": {
            "text/plain": [
              "<Figure size 640x480 with 1 Axes>"
            ],
            "image/png": "[encoded data removed]"
          },
          "metadata": {}
        },
        {
          "output_type": "stream",
          "name": "stdout",
          "text": [
            "Linear Layer Activation: 9.804064750671387\n",
            "Linear Layer 3 sigma: 0.0\n"
          ]
        },
        {
          "output_type": "display_data",
          "data": {
            "text/plain": [
              "<Figure size 640x480 with 1 Axes>"
            ],
            "image/png": "[encoded data removed]"
          },
          "metadata": {}
        },
        {
          "output_type": "stream",
          "name": "stdout",
          "text": [
            "Linear Layer Activation: 6.7702202796936035\n",
            "Linear Layer 3 sigma: 0.0\n"
          ]
        }
      ],
      "source": [
        "layers = [net_q3.conv1, net_q3.conv2, net_q3.fc1, net_q3.fc2, net_q3.fc3]\n",
        "for layer in layers:\n",
        "  analyze_layer_activations(layer)"
      ]
    },
    {
      "cell_type": "markdown",
      "metadata": {
        "id": "3zBHym6XGXtX"
      },
      "source": [
        "## Quantizing Activations\n",
        "\n",
        "### Formulation Questions\n",
        "\n",
        "Before performing any quantization let's describe the output of the `conv1` layer as:\n",
        "\n",
        "$$ W_{conv1} * In = Out_{conv1} $$\n",
        "\n",
        "Suppose:\n",
        "- We scale the input, $ In $, scaling it by $ s_{In} $.\n",
        "- We scale the weight, $ W_{conv1} $, by $ s_{W_{conv1}} $\n",
        "- We scale output, $ Out_{conv1} $, by $ s_{Out_{conv1}} $.\n",
        "\n",
        "\n",
        "Now try to answer the following questions:\n",
        "\n",
        "1. Calculate $ s_{Out_{conv1}}$ and the quantized output of `conv1` layer, $Out_{conv1}^{q}$.\n",
        "\n",
        "2. Calculate $ s_{Out_{conv2}}$ and the quantized output of `conv2` layer, $Out_{conv2}^{q}$.\n",
        "\n",
        "3. How would you generalize the output scale calculation to the next layers?\n",
        "\n",
        "\n",
        "Assume no pooling or relu exists.\n"
      ]
    },
    {
      "cell_type": "markdown",
      "source": [
        "## **Sol.1**\n",
        "# $Out_{conv1}^{q}$ = $S_{out_{conv1}}$ * ($S_{w_{conv1}}$ * $W_{conv1}$) * ($S_{in}$ * $In$)\n",
        "\n",
        "# $S_{out_{conv1}}$ = $127 \\over max(S_{w_{conv1}} * W_{conv1} * S_{in} * In) $\n",
        "\n",
        "## **Sol.2**\n",
        "# $Out_{conv2}^{q}$ = $S_{out_{conv2}}$ * ($S_{w_{conv2}}$ * $W_{conv2}$) * ($Out_{conv1}^q$)\n",
        "\n",
        "# $S_{out_{conv2}}$ = $127 \\over max(S_{w_{conv2}} * W_{conv2} * S_{in} * S_{w_{conv1}} * S_{out_{conv1}} * Out_{conv1}) $\n",
        "\n",
        "# $Out_{conv2}$ = $W_{conv2}$ * $Out_{conv1}$\n",
        "\n",
        "# $S_{out_{conv2}}$ = $127 \\over max(S_{w_{conv2}} * S_{in} * S_{w_{conv1}} * S_{out_{conv1}} * Out_{conv2}) $"
      ],
      "metadata": {
        "id": "tHy3WQYwHXqJ"
      }
    },
    {
      "cell_type": "markdown",
      "metadata": {
        "id": "aLG7MedrtIdi"
      },
      "source": [
        "### Programming Questions\n",
        "\n",
        "Now we are going to implement a network where both weights and activations are quantized.\n",
        "\n",
        "To do so, complete these functions in the following code:\n",
        "1. Understand what the `__init__` function is doing, but it should stay unchanged.\n",
        "2. Complete `quantize_initial_input`.\n",
        "3. Complete `quantize_activations`.\n",
        "4. Write the `forward` function of this quantized network, similar to the original net's `forward` function, but make sure you use `round` and clip the values.\n"
      ]
    },
    {
      "cell_type": "code",
      "execution_count": 29,
      "metadata": {
        "id": "1BxTEkSAKOLH",
        "vscode": {
          "languageId": "python"
        }
      },
      "outputs": [],
      "source": [
        "from typing import List\n",
        "\n",
        "\n",
        "# Used in the next section\n",
        "def nearest_power_of_two(n):\n",
        "    return 2**round(np.log2(n))\n",
        "\n",
        "\n",
        "class NetQuantized(nn.Module):\n",
        "    \"\"\"\n",
        "    A PyTorch neural network model with quantized weights and activations.\n",
        "\n",
        "    This class is designed to create a quantized version of a neural network, where both\n",
        "    weights and activations are quantized to a limited range of values. It also provides\n",
        "    methods for quantization and scaling of input data and activations.\n",
        "\n",
        "    Note that NetQuantized is inherited from nn.Module.\n",
        "\n",
        "    Attributes:\n",
        "    - conv1 (nn.Module): The first convolutional layer.\n",
        "    - pool (nn.Module): The pooling layer.\n",
        "    - conv2 (nn.Module): The second convolutional layer.\n",
        "    - fc1 (nn.Module): The first fully connected layer.\n",
        "    - fc2 (nn.Module): The second fully connected layer.\n",
        "    - fc3 (nn.Module): The third fully connected layer.\n",
        "\n",
        "    Methods:\n",
        "    - quantize_initial_input(pixels: np.ndarray) -> float: Calculate a scaling factor for the initial input.\n",
        "    - quantize_activations(activations: np.ndarray, n_w: float, n_initial_input: float, ns: List[Tuple[float, float]]) -> float: Calculate scaling factor for layer output.\n",
        "    - forward(x: torch.Tensor) -> torch.Tensor: Forward pass through the quantized network.\n",
        "\n",
        "    Usage:\n",
        "    Initialize an instance of this class with a quantized neural network model,\n",
        "    and it will automatically set up quantization and scaling for both input and activations.\n",
        "    \"\"\"\n",
        "\n",
        "    def __init__(self, net_with_weights_quantized: nn.Module):\n",
        "      \"\"\"\n",
        "      Initialize a quantized neural network model.\n",
        "\n",
        "      Parameters:\n",
        "      - net_with_weights_quantized (nn.Module): The input PyTorch model with quantized weights.\n",
        "\n",
        "      This class is designed to create a quantized version of a neural network, where both\n",
        "      weights and activations are quantized to a limited range of values.\n",
        "      \"\"\"\n",
        "      super(NetQuantized, self).__init__()\n",
        "\n",
        "      # Create a copy of the input model to avoid modifying the original model\n",
        "      net_init = copy_model(net_with_weights_quantized)\n",
        "\n",
        "      self.conv1 = net_init.conv1\n",
        "      self.pool = net_init.pool\n",
        "      self.conv2 = net_init.conv2\n",
        "      self.fc1 = net_init.fc1\n",
        "      self.fc2 = net_init.fc2\n",
        "      self.fc3 = net_init.fc3\n",
        "\n",
        "      # Define a list of layers to use throughout the model\n",
        "      layers = [self.conv1, self.conv2, self.fc1, self.fc2, self.fc3]\n",
        "\n",
        "      # Register pre-hooks for each layer to check input data before forward pass\n",
        "      for layer in layers:\n",
        "          def pre_hook(l, x):\n",
        "              x = x[0]  # Extract the input tensor from the tuple\n",
        "              # Check if input values are within the range for an 8-bit signed integer\n",
        "              if (x < -128).any() or (x > 127).any():\n",
        "                  raise Exception(\"Input to {} layer is out of bounds for an 8-bit signed integer\".format(l.__class__.__name__))\n",
        "              # Check if input values have fractional parts (i.e., they are not integers)\n",
        "              if (x != x.round()).any():\n",
        "                  raise Exception(\"Input to {} layer has non-integer values\".format(l.__class__.__name__))\n",
        "\n",
        "          layer.register_forward_pre_hook(pre_hook)\n",
        "\n",
        "      # Calculate the scaling factor for the initial input to the CNN\n",
        "      self.input_activations = net_with_weights_quantized.input_activations\n",
        "      self.input_scale = NetQuantized.quantize_initial_input(self.input_activations)\n",
        "      print(f'input_scale: {self.input_scale}')\n",
        "\n",
        "      # Calculate the output scaling factors for all the layers of the CNN\n",
        "      preceding_layer_scales = []\n",
        "      for layer in layers:\n",
        "          layer.output_scale = NetQuantized.quantize_activations(layer.activations, layer.weight.scale, self.input_scale, preceding_layer_scales)\n",
        "          # Store the scales for later use in subsequent layers\n",
        "          preceding_layer_scales.append((layer.weight.scale, layer.output_scale))\n",
        "          print(f'activation_scale: {layer.output_scale} of layer {layer.__class__.__name__}')\n",
        "    @staticmethod\n",
        "    def quantize_initial_input(pixels: np.ndarray) -> float:\n",
        "        '''\n",
        "        Calculate a scaling factor for the images that are input to the first layer of the CNN.\n",
        "\n",
        "        Parameters:\n",
        "        pixels (ndarray): The values of all the pixels which were part of the input image during training\n",
        "\n",
        "        Returns:\n",
        "        float: A scaling factor that the input should be multiplied by before being fed into the first layer.\n",
        "               This value does not need to be an 8-bit integer.\n",
        "        '''\n",
        "\n",
        "        # TODO: Add your code here.\n",
        "\n",
        "        scale_fact = 127/(np.max(np.absolute(pixels)))\n",
        "        return scale_fact\n",
        "\n",
        "\n",
        "\n",
        "\n",
        "    @staticmethod\n",
        "    def quantize_activations(activations: np.ndarray, s_w: float, s_initial_input: float, weight_output_scales: List[Tuple[float, float]]) -> float:\n",
        "        '''\n",
        "        Calculate a scaling factor to multiply the output of a layer by.\n",
        "\n",
        "        Parameters:\n",
        "        activations (ndarray): The values of all the pixels which have been output by this layer during training\n",
        "        s_w (float): The scale by which the weights of this layer were multiplied as part of the \"quantize_weights\" function you wrote earlier\n",
        "        s_initial_input (float): The scale by which the initial input to the neural network was multiplied\n",
        "        weight_output_scales ([(float, float)]): A list of tuples, where each tuple represents the \"weight scale\" and \"output scale\" (in that order) for every preceding layer\n",
        "\n",
        "        Returns:\n",
        "        float: A scaling factor that the layer output should be multiplied by before being fed into the first layer.\n",
        "               This value does not need to be an 8-bit integer.\n",
        "        '''\n",
        "        # TODO: Add your code here.\n",
        "        actv = 1\n",
        "        for i in weight_output_scales:\n",
        "            for value in i:\n",
        "               actv = actv * value\n",
        "        actv = actv * s_initial_input * s_w* np.max(np.abs(activations))\n",
        "        scaling_factor =  127/actv\n",
        "        return scaling_factor\n",
        "\n",
        "    def forward(self, x: torch.Tensor) -> torch.Tensor:\n",
        "        #return x\n",
        "          x_q = (x * self.input_scale)\n",
        "          x_q = x_q.round().clamp(-128, 127)\n",
        "        # Apply first convolutional layer, followed by ReLU activation and max pooling\n",
        "          x = self.pool(F.relu(self.conv1(x_q)))\n",
        "          x = x * self.conv1.output_scale\n",
        "          x = x.round().clamp(-128, 127)\n",
        "\n",
        "        # Apply second convolutional layer, followed by ReLU activation and max pooling\n",
        "          x = self.pool(F.relu(self.conv2(x)))\n",
        "          x = x * self.conv2.output_scale\n",
        "          x = x.round().clamp(-128, 127)\n",
        "\n",
        "        # Apply third convolutional layer, followed by ReLU activation and max pooling\n",
        "          x = x.view(-1, 16 * 5 * 5) # flatten\n",
        "        # Apply first fully connected layer, followed by ReLU activation\n",
        "          x = F.relu(self.fc1(x))\n",
        "          x = x * self.fc1.output_scale\n",
        "          x = x.round().clamp(-128, 127)\n",
        "\n",
        "        # Apply first fully connected layer, followed by ReLU activation\n",
        "          x = F.relu(self.fc2(x))\n",
        "          x = x * self.fc2.output_scale\n",
        "          x = x.round().clamp(-128, 127)\n",
        "\n",
        "        # Apply first fully connected layer, followed by ReLU activation\n",
        "          x = F.relu(self.fc3(x))\n",
        "          x = x * self.fc3.output_scale\n",
        "          x = x.round().clamp(-128, 127)\n",
        "\n",
        "\n",
        "          return x\n"
      ]
    },
    {
      "cell_type": "code",
      "execution_count": 30,
      "metadata": {
        "id": "63d4SFKQqSsy",
        "vscode": {
          "languageId": "python"
        },
        "colab": {
          "base_uri": "https://localhost:8080/"
        },
        "outputId": "71a95cde-4439-4c90-c256-330f2b2461cb"
      },
      "outputs": [
        {
          "output_type": "stream",
          "name": "stdout",
          "text": [
            "input_scale: 127.0\n",
            "activation_scale: 0.004784536408627127 of layer Conv2d\n",
            "activation_scale: 0.000313340927942385 of layer Conv2d\n",
            "activation_scale: 0.0006838284318120655 of layer Linear\n",
            "activation_scale: 0.002013278659754308 of layer Linear\n",
            "activation_scale: 0.00441235460028953 of layer Linear\n"
          ]
        }
      ],
      "source": [
        "# No need to change this code\n",
        "# Merge the information from net_q2 and net_q3 together\n",
        "net_init = copy_model(net_q2)\n",
        "net_init.input_activations = deepcopy(net_q3.input_activations)\n",
        "for layer_init, layer_q3 in zip(net_init.children(), net_q3.children()):\n",
        "    if isinstance(layer_init, nn.Conv2d) or isinstance(layer_init, nn.Linear):\n",
        "        layer_init.activations = deepcopy(layer_q3.activations)\n",
        "\n",
        "net_quantized = NetQuantized(net_init)"
      ]
    },
    {
      "cell_type": "markdown",
      "metadata": {
        "id": "4eYRfqKbwq4N"
      },
      "source": [
        "## Calculate the accuracy\n",
        "\n",
        "1. What is the accuracy of `net_quantized`?\n",
        "2. What can you say about quantization and the accuracy of the network?"
      ]
    },
    {
      "cell_type": "code",
      "execution_count": 31,
      "metadata": {
        "colab": {
          "base_uri": "https://localhost:8080/"
        },
        "id": "D6qyppXqqzkR",
        "outputId": "8f4666fc-a6fe-487e-915f-07047affed0e",
        "vscode": {
          "languageId": "python"
        }
      },
      "outputs": [
        {
          "output_type": "stream",
          "name": "stdout",
          "text": [
            "Accuracy of the net_quantized on the test images: 46.2%\n"
          ]
        }
      ],
      "source": [
        "score = calculate_accuracy(net_quantized, testloader)\n",
        "print('Accuracy of the net_quantized on the test images: {}%'.format(score))"
      ]
    },
    {
      "cell_type": "markdown",
      "metadata": {
        "id": "8nAUmq5NyII0"
      },
      "source": [
        "## Enhancement and Optimization Questions\n",
        "1. Write down the scaling factors you calculated in the previous section for each layer. Instead of reporting the scale factor itself, $s$, report $\\frac{1}{s}$ for each layer.\n",
        "\n",
        "**Sol.1**\n",
        "1. Write down the scaling factors you calculated in the previous section for each layer. Instead of reporting the scale factor itself, $s$, report $\\frac{1}{s}$ for each layer.\n",
        "\n",
        "+ Answer:\n",
        "  + Conv1: 0.004971001678564417 , $1 \\over s$  = 208.2472\n",
        "  + Conv2: 0.00032771531610662727, $1 \\over s$ = 3123.613\n",
        "  + fc1: 0.0006346044208037825, $1 \\over s$  = 1303.909\n",
        "  + fc2: 0.001258466374215905, $1 \\over s$  = 938.3191\n",
        "  + fc3: 0.005782694811900766, $1 \\over s$  = 149.9303\n",
        "\n",
        "2. Modify the network so that you round each $\\frac{1}{s}$ for activations to the nearest power of 2 and use that instead. For example, if $\\frac{1}{s} = 230.46005$, round it to $256$.\n",
        " - What is the benefit of this approximation?\n",
        " - Recalculate the accuracy.\n",
        "\n",
        "3. Instead of 8-bit integers, modify your code to use 4-bit integers. Recalculate the accuracy.\n",
        "\n",
        "2. Modify the network so that you round each $\\frac{1}{s}$ for activations to the nearest power of 2 and use that instead. For example, if $\\frac{1}{s} = 230.46005$, round it to $256$.\n",
        " - What is the benefit of this approximation?\n",
        " - Recalculate the accuracy.\n",
        "\n",
        "3. Instead of 8-bit integers, modify your code to use 4-bit integers. Recalculate the accuracy."
      ]
    }
  ],
  "metadata": {
    "accelerator": "GPU",
    "colab": {
      "gpuType": "T4",
      "provenance": [],
      "include_colab_link": true
    },
    "kernelspec": {
      "display_name": "Python 3",
      "name": "python3"
    }
  },
  "nbformat": 4,
  "nbformat_minor": 0
}